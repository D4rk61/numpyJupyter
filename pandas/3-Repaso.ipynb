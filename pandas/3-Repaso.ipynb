{
 "cells": [
  {
   "cell_type": "code",
   "execution_count": 1,
   "metadata": {},
   "outputs": [],
   "source": [
    "# Tomando un repaso tanto de numpy como de pandas \n",
    "import numpy as np \n",
    "import pandas as pd"
   ]
  },
  {
   "attachments": {},
   "cell_type": "markdown",
   "metadata": {},
   "source": [
    "### Creacion de arrays y DataFrames"
   ]
  },
  {
   "cell_type": "code",
   "execution_count": 3,
   "metadata": {},
   "outputs": [
    {
     "data": {
      "text/plain": [
       "array([ 10.        ,   9.59183673,   9.18367347,   8.7755102 ,\n",
       "         8.36734694,   7.95918367,   7.55102041,   7.14285714,\n",
       "         6.73469388,   6.32653061,   5.91836735,   5.51020408,\n",
       "         5.10204082,   4.69387755,   4.28571429,   3.87755102,\n",
       "         3.46938776,   3.06122449,   2.65306122,   2.24489796,\n",
       "         1.83673469,   1.42857143,   1.02040816,   0.6122449 ,\n",
       "         0.20408163,  -0.20408163,  -0.6122449 ,  -1.02040816,\n",
       "        -1.42857143,  -1.83673469,  -2.24489796,  -2.65306122,\n",
       "        -3.06122449,  -3.46938776,  -3.87755102,  -4.28571429,\n",
       "        -4.69387755,  -5.10204082,  -5.51020408,  -5.91836735,\n",
       "        -6.32653061,  -6.73469388,  -7.14285714,  -7.55102041,\n",
       "        -7.95918367,  -8.36734694,  -8.7755102 ,  -9.18367347,\n",
       "        -9.59183673, -10.        ])"
      ]
     },
     "execution_count": 3,
     "metadata": {},
     "output_type": "execute_result"
    }
   ],
   "source": [
    "# Creacion de arrays y \"dataFrames\"\n",
    "np.linspace(10, -10)\n"
   ]
  },
  {
   "cell_type": "code",
   "execution_count": 7,
   "metadata": {},
   "outputs": [
    {
     "data": {
      "text/plain": [
       "array([0., 0., 0., 0., 0., 0., 0., 0., 0., 0., 0., 0., 0., 0., 0., 0., 0.,\n",
       "       0., 0., 0., 0., 0., 0., 0., 0., 0., 0., 0., 0., 0., 0., 0., 0., 0.,\n",
       "       0., 0., 0., 0., 0., 0., 0., 0., 0., 0.])"
      ]
     },
     "execution_count": 7,
     "metadata": {},
     "output_type": "execute_result"
    }
   ],
   "source": [
    "np.zeros()"
   ]
  },
  {
   "cell_type": "code",
   "execution_count": 8,
   "metadata": {},
   "outputs": [
    {
     "data": {
      "text/plain": [
       "array([[0., 0., 0.],\n",
       "       [0., 0., 0.],\n",
       "       [0., 0., 0.]])"
      ]
     },
     "execution_count": 8,
     "metadata": {},
     "output_type": "execute_result"
    }
   ],
   "source": [
    "# Creando matricez de datos con numpy\n",
    "matriz = np.zeros((3,3))\n",
    "matriz"
   ]
  },
  {
   "attachments": {},
   "cell_type": "markdown",
   "metadata": {},
   "source": [
    "### Atributos de un array"
   ]
  },
  {
   "cell_type": "code",
   "execution_count": 9,
   "metadata": {},
   "outputs": [
    {
     "name": "stdout",
     "output_type": "stream",
     "text": [
      "La dimension de la matriz anteriormente creada es de: 2\n"
     ]
    }
   ],
   "source": [
    "# Devolviendo las dimensiones de estructuras ya creadas \n",
    "dimension_matriz = np.ndim(matriz)\n",
    "print(f\"La dimension de la matriz anteriormente creada es de: {dimension_matriz}\")"
   ]
  },
  {
   "cell_type": "code",
   "execution_count": 10,
   "metadata": {},
   "outputs": [
    {
     "name": "stdout",
     "output_type": "stream",
     "text": [
      "El numero de elementos dentro de la matriz: \n",
      "\n",
      "[[0. 0. 0.]\n",
      " [0. 0. 0.]\n",
      " [0. 0. 0.]]\n",
      "\n",
      "Es de: 9\n"
     ]
    }
   ],
   "source": [
    "# Numero de elemnteos dentro de un array\n",
    "num_elementos = np.size(matriz)\n",
    "print(f\"El numero de elementos dentro de la matriz: \\n\\n{matriz}\\n\\nEs de: {num_elementos}\")"
   ]
  },
  {
   "cell_type": "code",
   "execution_count": 16,
   "metadata": {},
   "outputs": [
    {
     "name": "stdout",
     "output_type": "stream",
     "text": [
      "Datos totales dentro de un array: \n",
      "[ 1  2  3  4  5  6  7  8  9 10 11 12 13 14 15 16 17 18 19 20]\n",
      "\n",
      "Filtrando por numeros pares: \n",
      "[ 2  4  6  8 10 12 14 16 18 20]\n"
     ]
    }
   ],
   "source": [
    "# Realizando condicionales dentro de un array de numpy \n",
    "array1 = np.array([i for i in np.arange(1, 20+1)])\n",
    "print(f\"Datos totales dentro de un array: \\n{array1}\")\n",
    "\n",
    "print(f\"\\nFiltrando por numeros pares: \\n{array1[array1 % 2 ==0]}\")"
   ]
  },
  {
   "attachments": {},
   "cell_type": "markdown",
   "metadata": {},
   "source": [
    "#### Solucionando un sistema de ecuaciones con numpy"
   ]
  },
  {
   "cell_type": "code",
   "execution_count": 18,
   "metadata": {},
   "outputs": [
    {
     "name": "stdout",
     "output_type": "stream",
     "text": [
      "La solucion de las incognitas es: [-1.  1.]\n"
     ]
    }
   ],
   "source": [
    "# Sistema de dos ecuaciones y dos incógnitas\n",
    "# x + 2y = 1\n",
    "# 3x + 5y = 2 \n",
    "\n",
    "lines = np.array([[1,2], [3,5]])\n",
    "results = np.array([1,2])\n",
    "print(f\"La solucion de las incognitas es: {np.linalg.solve(lines, results)}\")\n",
    "\n"
   ]
  },
  {
   "cell_type": "code",
   "execution_count": 20,
   "metadata": {},
   "outputs": [
    {
     "data": {
      "text/plain": [
       "array([1., 6.])"
      ]
     },
     "execution_count": 20,
     "metadata": {},
     "output_type": "execute_result"
    }
   ],
   "source": [
    "# Otro sistema de ecuaciones \n",
    "# x +y = 7\n",
    "# 5x -2y = -7 \n",
    "\n",
    "lines2 = np.array([[1,1], [5, -2]])\n",
    "responses = np.array([7, -7])\n",
    "np.linalg.solve(lines2, responses)"
   ]
  }
 ],
 "metadata": {
  "kernelspec": {
   "display_name": "Python 3",
   "language": "python",
   "name": "python3"
  },
  "language_info": {
   "codemirror_mode": {
    "name": "ipython",
    "version": 3
   },
   "file_extension": ".py",
   "mimetype": "text/x-python",
   "name": "python",
   "nbconvert_exporter": "python",
   "pygments_lexer": "ipython3",
   "version": "3.10.10"
  },
  "orig_nbformat": 4
 },
 "nbformat": 4,
 "nbformat_minor": 2
}
