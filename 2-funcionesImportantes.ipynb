{
 "cells": [
  {
   "cell_type": "code",
   "execution_count": 1,
   "metadata": {},
   "outputs": [],
   "source": [
    "import numpy as np"
   ]
  },
  {
   "cell_type": "code",
   "execution_count": 2,
   "metadata": {},
   "outputs": [],
   "source": [
    "#! Funciones importantes dentro de numpy \n",
    "arr = np.random.randint(1, 20, 10)\n"
   ]
  },
  {
   "cell_type": "code",
   "execution_count": 3,
   "metadata": {},
   "outputs": [
    {
     "data": {
      "text/plain": [
       "array([[ 7,  3, 16,  6, 17],\n",
       "       [10, 17, 15,  7, 17]])"
      ]
     },
     "execution_count": 3,
     "metadata": {},
     "output_type": "execute_result"
    }
   ],
   "source": [
    "matriz = arr.reshape(2, 5)\n",
    "matriz"
   ]
  },
  {
   "cell_type": "code",
   "execution_count": 6,
   "metadata": {},
   "outputs": [
    {
     "name": "stdout",
     "output_type": "stream",
     "text": [
      "Numero mayor de nuesstro array => 17\n",
      "Numero mayor de nuestra matriz => 17\n",
      "\n",
      "Numero mayor del primer eje => [17 17]\n"
     ]
    }
   ],
   "source": [
    "# Funcion max => Traer el numero mas grande que tenga nuestro array\n",
    "\n",
    "print(f\"Numero mayor de nuesstro array => {arr.max()}\\nNumero mayor de nuestra matriz => {matriz.max()}\")\n",
    "\n",
    "\n",
    "# Mostrando los numeros mayores solo de un eje (en el caso de las matrices)\n",
    "print(f\"\\nNumero mayor del primer eje => {matriz.max(1)}\")"
   ]
  },
  {
   "cell_type": "code",
   "execution_count": 5,
   "metadata": {},
   "outputs": [
    {
     "name": "stdout",
     "output_type": "stream",
     "text": [
      "\n"
     ]
    },
    {
     "data": {
      "text/plain": [
       "9.5"
      ]
     },
     "execution_count": 5,
     "metadata": {},
     "output_type": "execute_result"
    }
   ],
   "source": [
    "arr.ptp() # Esto es como el \"rango\" en estadistica \n",
    "\n",
    "print()\n",
    "np.percentile(arr, 50) # El valor que se encuentra en la mitad o mediana "
   ]
  },
  {
   "cell_type": "code",
   "execution_count": 7,
   "metadata": {},
   "outputs": [
    {
     "data": {
      "text/plain": [
       "array([ 2,  3,  3,  8,  8, 11, 11, 13, 15, 15])"
      ]
     },
     "execution_count": 7,
     "metadata": {},
     "output_type": "execute_result"
    }
   ],
   "source": [
    "arr.sort()\n",
    "arr\n",
    "\n",
    "# Ordena los numeros de menor a mayor "
   ]
  }
 ],
 "metadata": {
  "kernelspec": {
   "display_name": "Python 3",
   "language": "python",
   "name": "python3"
  },
  "language_info": {
   "codemirror_mode": {
    "name": "ipython",
    "version": 3
   },
   "file_extension": ".py",
   "mimetype": "text/x-python",
   "name": "python",
   "nbconvert_exporter": "python",
   "pygments_lexer": "ipython3",
   "version": "3.10.10"
  },
  "orig_nbformat": 4
 },
 "nbformat": 4,
 "nbformat_minor": 2
}
